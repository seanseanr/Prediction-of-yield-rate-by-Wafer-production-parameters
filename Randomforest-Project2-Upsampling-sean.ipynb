{
 "cells": [
  {
   "cell_type": "markdown",
   "metadata": {},
   "source": [
    "## Logistic Function / Sigmoid Function"
   ]
  },
  {
   "cell_type": "code",
   "execution_count": 1,
   "metadata": {
    "collapsed": true
   },
   "outputs": [],
   "source": [
    "import numpy as np"
   ]
  },
  {
   "cell_type": "code",
   "execution_count": 2,
   "metadata": {
    "collapsed": true
   },
   "outputs": [],
   "source": [
    "import matplotlib.pyplot as plt"
   ]
  },
  {
   "cell_type": "markdown",
   "metadata": {},
   "source": [
    "## Logistic Regression"
   ]
  },
  {
   "cell_type": "code",
   "execution_count": 3,
   "metadata": {},
   "outputs": [
    {
     "data": {
      "text/html": [
       "<div>\n",
       "<style>\n",
       "    .dataframe thead tr:only-child th {\n",
       "        text-align: right;\n",
       "    }\n",
       "\n",
       "    .dataframe thead th {\n",
       "        text-align: left;\n",
       "    }\n",
       "\n",
       "    .dataframe tbody tr th {\n",
       "        vertical-align: top;\n",
       "    }\n",
       "</style>\n",
       "<table border=\"1\" class=\"dataframe\">\n",
       "  <thead>\n",
       "    <tr style=\"text-align: right;\">\n",
       "      <th></th>\n",
       "      <th>Lot-ID</th>\n",
       "      <th>Wafer-NO</th>\n",
       "      <th>P1_6_std</th>\n",
       "      <th>P1_6_max</th>\n",
       "      <th>P1_7_std</th>\n",
       "      <th>P1_7_max</th>\n",
       "      <th>P1_8_std</th>\n",
       "      <th>P1_8_max</th>\n",
       "      <th>P1_11_std</th>\n",
       "      <th>P1_11_min</th>\n",
       "      <th>...</th>\n",
       "      <th>P2_7_max</th>\n",
       "      <th>P2_8_std</th>\n",
       "      <th>P2_8_max</th>\n",
       "      <th>P2_11_std</th>\n",
       "      <th>P2_11_min</th>\n",
       "      <th>P2_12_std</th>\n",
       "      <th>P2_12_min</th>\n",
       "      <th>P2_15_std</th>\n",
       "      <th>P2_15_max</th>\n",
       "      <th>Yield</th>\n",
       "    </tr>\n",
       "  </thead>\n",
       "  <tbody>\n",
       "    <tr>\n",
       "      <th>0</th>\n",
       "      <td>1551</td>\n",
       "      <td>3</td>\n",
       "      <td>1.240112</td>\n",
       "      <td>604</td>\n",
       "      <td>1.676486</td>\n",
       "      <td>-99</td>\n",
       "      <td>2.153222</td>\n",
       "      <td>2403</td>\n",
       "      <td>0.0</td>\n",
       "      <td>2047</td>\n",
       "      <td>...</td>\n",
       "      <td>-95</td>\n",
       "      <td>2.274893</td>\n",
       "      <td>1395</td>\n",
       "      <td>80.656406</td>\n",
       "      <td>1084</td>\n",
       "      <td>19.211097</td>\n",
       "      <td>816</td>\n",
       "      <td>2.509992</td>\n",
       "      <td>-95</td>\n",
       "      <td>1</td>\n",
       "    </tr>\n",
       "    <tr>\n",
       "      <th>1</th>\n",
       "      <td>1551</td>\n",
       "      <td>4</td>\n",
       "      <td>0.866025</td>\n",
       "      <td>604</td>\n",
       "      <td>2.906367</td>\n",
       "      <td>-103</td>\n",
       "      <td>2.005674</td>\n",
       "      <td>2400</td>\n",
       "      <td>0.0</td>\n",
       "      <td>2047</td>\n",
       "      <td>...</td>\n",
       "      <td>-98</td>\n",
       "      <td>1.975088</td>\n",
       "      <td>1395</td>\n",
       "      <td>83.650758</td>\n",
       "      <td>1103</td>\n",
       "      <td>21.064211</td>\n",
       "      <td>848</td>\n",
       "      <td>2.029570</td>\n",
       "      <td>-97</td>\n",
       "      <td>1</td>\n",
       "    </tr>\n",
       "    <tr>\n",
       "      <th>2</th>\n",
       "      <td>1551</td>\n",
       "      <td>5</td>\n",
       "      <td>0.873863</td>\n",
       "      <td>604</td>\n",
       "      <td>1.972539</td>\n",
       "      <td>-104</td>\n",
       "      <td>1.566699</td>\n",
       "      <td>2400</td>\n",
       "      <td>0.0</td>\n",
       "      <td>2047</td>\n",
       "      <td>...</td>\n",
       "      <td>-97</td>\n",
       "      <td>3.032936</td>\n",
       "      <td>1398</td>\n",
       "      <td>83.409923</td>\n",
       "      <td>1105</td>\n",
       "      <td>20.866178</td>\n",
       "      <td>832</td>\n",
       "      <td>2.310900</td>\n",
       "      <td>-98</td>\n",
       "      <td>1</td>\n",
       "    </tr>\n",
       "    <tr>\n",
       "      <th>3</th>\n",
       "      <td>1551</td>\n",
       "      <td>6</td>\n",
       "      <td>0.792961</td>\n",
       "      <td>604</td>\n",
       "      <td>1.614330</td>\n",
       "      <td>-106</td>\n",
       "      <td>2.378884</td>\n",
       "      <td>2403</td>\n",
       "      <td>0.0</td>\n",
       "      <td>2047</td>\n",
       "      <td>...</td>\n",
       "      <td>-91</td>\n",
       "      <td>2.006768</td>\n",
       "      <td>1395</td>\n",
       "      <td>76.508823</td>\n",
       "      <td>1095</td>\n",
       "      <td>21.007256</td>\n",
       "      <td>816</td>\n",
       "      <td>1.769484</td>\n",
       "      <td>-96</td>\n",
       "      <td>1</td>\n",
       "    </tr>\n",
       "    <tr>\n",
       "      <th>4</th>\n",
       "      <td>1551</td>\n",
       "      <td>8</td>\n",
       "      <td>0.948683</td>\n",
       "      <td>604</td>\n",
       "      <td>1.969207</td>\n",
       "      <td>-101</td>\n",
       "      <td>0.948683</td>\n",
       "      <td>2400</td>\n",
       "      <td>0.0</td>\n",
       "      <td>2047</td>\n",
       "      <td>...</td>\n",
       "      <td>-94</td>\n",
       "      <td>2.888742</td>\n",
       "      <td>1395</td>\n",
       "      <td>83.550386</td>\n",
       "      <td>1101</td>\n",
       "      <td>20.526288</td>\n",
       "      <td>832</td>\n",
       "      <td>2.751010</td>\n",
       "      <td>-95</td>\n",
       "      <td>1</td>\n",
       "    </tr>\n",
       "  </tbody>\n",
       "</table>\n",
       "<p>5 rows × 27 columns</p>\n",
       "</div>"
      ],
      "text/plain": [
       "   Lot-ID  Wafer-NO  P1_6_std  P1_6_max  P1_7_std  P1_7_max  P1_8_std  \\\n",
       "0    1551         3  1.240112       604  1.676486       -99  2.153222   \n",
       "1    1551         4  0.866025       604  2.906367      -103  2.005674   \n",
       "2    1551         5  0.873863       604  1.972539      -104  1.566699   \n",
       "3    1551         6  0.792961       604  1.614330      -106  2.378884   \n",
       "4    1551         8  0.948683       604  1.969207      -101  0.948683   \n",
       "\n",
       "   P1_8_max  P1_11_std  P1_11_min  ...    P2_7_max  P2_8_std  P2_8_max  \\\n",
       "0      2403        0.0       2047  ...         -95  2.274893      1395   \n",
       "1      2400        0.0       2047  ...         -98  1.975088      1395   \n",
       "2      2400        0.0       2047  ...         -97  3.032936      1398   \n",
       "3      2403        0.0       2047  ...         -91  2.006768      1395   \n",
       "4      2400        0.0       2047  ...         -94  2.888742      1395   \n",
       "\n",
       "   P2_11_std  P2_11_min  P2_12_std  P2_12_min  P2_15_std  P2_15_max  Yield  \n",
       "0  80.656406       1084  19.211097        816   2.509992        -95      1  \n",
       "1  83.650758       1103  21.064211        848   2.029570        -97      1  \n",
       "2  83.409923       1105  20.866178        832   2.310900        -98      1  \n",
       "3  76.508823       1095  21.007256        816   1.769484        -96      1  \n",
       "4  83.550386       1101  20.526288        832   2.751010        -95      1  \n",
       "\n",
       "[5 rows x 27 columns]"
      ]
     },
     "execution_count": 3,
     "metadata": {},
     "output_type": "execute_result"
    }
   ],
   "source": [
    "import pandas as pd\n",
    "df = pd.read_csv(\"2batch_P_normal-sean.csv\",encoding = \"big5\")\n",
    "df.head()"
   ]
  },
  {
   "cell_type": "code",
   "execution_count": 4,
   "metadata": {},
   "outputs": [
    {
     "data": {
      "text/html": [
       "<div>\n",
       "<style>\n",
       "    .dataframe thead tr:only-child th {\n",
       "        text-align: right;\n",
       "    }\n",
       "\n",
       "    .dataframe thead th {\n",
       "        text-align: left;\n",
       "    }\n",
       "\n",
       "    .dataframe tbody tr th {\n",
       "        vertical-align: top;\n",
       "    }\n",
       "</style>\n",
       "<table border=\"1\" class=\"dataframe\">\n",
       "  <thead>\n",
       "    <tr style=\"text-align: right;\">\n",
       "      <th></th>\n",
       "      <th>Lot-ID</th>\n",
       "      <th>Wafer-NO</th>\n",
       "      <th>P1_6_max</th>\n",
       "      <th>P1_6_std</th>\n",
       "      <th>P1_7_max</th>\n",
       "      <th>P1_7_std</th>\n",
       "      <th>P1_8_max</th>\n",
       "      <th>P1_8_std</th>\n",
       "      <th>P1_11_min</th>\n",
       "      <th>P1_11_std</th>\n",
       "      <th>...</th>\n",
       "      <th>P2_7_std</th>\n",
       "      <th>P2_8_max</th>\n",
       "      <th>P2_8_std</th>\n",
       "      <th>P2_11_min</th>\n",
       "      <th>P2_11_std</th>\n",
       "      <th>P2_12_min</th>\n",
       "      <th>P2_12_std</th>\n",
       "      <th>P2_15_max</th>\n",
       "      <th>P2_15_std</th>\n",
       "      <th>Yield</th>\n",
       "    </tr>\n",
       "  </thead>\n",
       "  <tbody>\n",
       "    <tr>\n",
       "      <th>0</th>\n",
       "      <td>1549</td>\n",
       "      <td>1</td>\n",
       "      <td>604</td>\n",
       "      <td>1.048809</td>\n",
       "      <td>-103</td>\n",
       "      <td>1.264911</td>\n",
       "      <td>2397</td>\n",
       "      <td>1.549193</td>\n",
       "      <td>2047</td>\n",
       "      <td>0.0</td>\n",
       "      <td>...</td>\n",
       "      <td>1.378023</td>\n",
       "      <td>1395</td>\n",
       "      <td>2.270173</td>\n",
       "      <td>1148</td>\n",
       "      <td>6.831403</td>\n",
       "      <td>896</td>\n",
       "      <td>3.958446</td>\n",
       "      <td>-102</td>\n",
       "      <td>1.259351</td>\n",
       "      <td>0</td>\n",
       "    </tr>\n",
       "    <tr>\n",
       "      <th>1</th>\n",
       "      <td>1549</td>\n",
       "      <td>2</td>\n",
       "      <td>603</td>\n",
       "      <td>0.674200</td>\n",
       "      <td>-100</td>\n",
       "      <td>1.361817</td>\n",
       "      <td>2403</td>\n",
       "      <td>2.493628</td>\n",
       "      <td>2047</td>\n",
       "      <td>0.0</td>\n",
       "      <td>...</td>\n",
       "      <td>3.486045</td>\n",
       "      <td>1398</td>\n",
       "      <td>2.847583</td>\n",
       "      <td>1104</td>\n",
       "      <td>9.077733</td>\n",
       "      <td>865</td>\n",
       "      <td>9.160613</td>\n",
       "      <td>-92</td>\n",
       "      <td>2.397104</td>\n",
       "      <td>0</td>\n",
       "    </tr>\n",
       "    <tr>\n",
       "      <th>2</th>\n",
       "      <td>1549</td>\n",
       "      <td>4</td>\n",
       "      <td>604</td>\n",
       "      <td>0.904534</td>\n",
       "      <td>-99</td>\n",
       "      <td>1.537412</td>\n",
       "      <td>2403</td>\n",
       "      <td>2.427120</td>\n",
       "      <td>2047</td>\n",
       "      <td>0.0</td>\n",
       "      <td>...</td>\n",
       "      <td>2.949158</td>\n",
       "      <td>1395</td>\n",
       "      <td>2.485948</td>\n",
       "      <td>1060</td>\n",
       "      <td>7.773531</td>\n",
       "      <td>822</td>\n",
       "      <td>4.476171</td>\n",
       "      <td>-78</td>\n",
       "      <td>0.634648</td>\n",
       "      <td>0</td>\n",
       "    </tr>\n",
       "    <tr>\n",
       "      <th>3</th>\n",
       "      <td>1549</td>\n",
       "      <td>6</td>\n",
       "      <td>604</td>\n",
       "      <td>1.164500</td>\n",
       "      <td>-98</td>\n",
       "      <td>2.490893</td>\n",
       "      <td>2400</td>\n",
       "      <td>1.732051</td>\n",
       "      <td>2047</td>\n",
       "      <td>0.0</td>\n",
       "      <td>...</td>\n",
       "      <td>2.093709</td>\n",
       "      <td>1395</td>\n",
       "      <td>2.461695</td>\n",
       "      <td>1097</td>\n",
       "      <td>6.741949</td>\n",
       "      <td>897</td>\n",
       "      <td>8.597795</td>\n",
       "      <td>-98</td>\n",
       "      <td>2.074736</td>\n",
       "      <td>0</td>\n",
       "    </tr>\n",
       "    <tr>\n",
       "      <th>4</th>\n",
       "      <td>1549</td>\n",
       "      <td>7</td>\n",
       "      <td>604</td>\n",
       "      <td>0.854850</td>\n",
       "      <td>-74</td>\n",
       "      <td>8.881392</td>\n",
       "      <td>2461</td>\n",
       "      <td>16.471921</td>\n",
       "      <td>2047</td>\n",
       "      <td>0.0</td>\n",
       "      <td>...</td>\n",
       "      <td>3.963880</td>\n",
       "      <td>1398</td>\n",
       "      <td>3.055404</td>\n",
       "      <td>1119</td>\n",
       "      <td>11.270674</td>\n",
       "      <td>857</td>\n",
       "      <td>11.181582</td>\n",
       "      <td>-91</td>\n",
       "      <td>1.696219</td>\n",
       "      <td>0</td>\n",
       "    </tr>\n",
       "  </tbody>\n",
       "</table>\n",
       "<p>5 rows × 27 columns</p>\n",
       "</div>"
      ],
      "text/plain": [
       "   Lot-ID  Wafer-NO  P1_6_max  P1_6_std  P1_7_max  P1_7_std  P1_8_max  \\\n",
       "0    1549         1       604  1.048809      -103  1.264911      2397   \n",
       "1    1549         2       603  0.674200      -100  1.361817      2403   \n",
       "2    1549         4       604  0.904534       -99  1.537412      2403   \n",
       "3    1549         6       604  1.164500       -98  2.490893      2400   \n",
       "4    1549         7       604  0.854850       -74  8.881392      2461   \n",
       "\n",
       "    P1_8_std  P1_11_min  P1_11_std  ...    P2_7_std  P2_8_max  P2_8_std  \\\n",
       "0   1.549193       2047        0.0  ...    1.378023      1395  2.270173   \n",
       "1   2.493628       2047        0.0  ...    3.486045      1398  2.847583   \n",
       "2   2.427120       2047        0.0  ...    2.949158      1395  2.485948   \n",
       "3   1.732051       2047        0.0  ...    2.093709      1395  2.461695   \n",
       "4  16.471921       2047        0.0  ...    3.963880      1398  3.055404   \n",
       "\n",
       "   P2_11_min  P2_11_std  P2_12_min  P2_12_std  P2_15_max  P2_15_std  Yield  \n",
       "0       1148   6.831403        896   3.958446       -102   1.259351      0  \n",
       "1       1104   9.077733        865   9.160613        -92   2.397104      0  \n",
       "2       1060   7.773531        822   4.476171        -78   0.634648      0  \n",
       "3       1097   6.741949        897   8.597795        -98   2.074736      0  \n",
       "4       1119  11.270674        857  11.181582        -91   1.696219      0  \n",
       "\n",
       "[5 rows x 27 columns]"
      ]
     },
     "execution_count": 4,
     "metadata": {},
     "output_type": "execute_result"
    }
   ],
   "source": [
    "df_abnormal = pd.read_csv(\"2batch_P_abnormal-sean.csv\",encoding = \"big5\")\n",
    "df2 = pd.concat([df_abnormal,df_abnormal,df_abnormal,df_abnormal,df_abnormal,df_abnormal,df_abnormal,df_abnormal,df_abnormal])\n",
    "df2.head()"
   ]
  },
  {
   "cell_type": "markdown",
   "metadata": {},
   "source": [
    "### 切分訓練資料與測試資料"
   ]
  },
  {
   "cell_type": "code",
   "execution_count": 5,
   "metadata": {},
   "outputs": [
    {
     "data": {
      "text/plain": [
       "141    1\n",
       "753    1\n",
       "770    1\n",
       "76     1\n",
       "206    1\n",
       "Name: Yield, dtype: int64"
      ]
     },
     "execution_count": 5,
     "metadata": {},
     "output_type": "execute_result"
    }
   ],
   "source": [
    "from sklearn.model_selection import train_test_split\n",
    "X = df[['P1_11_min','P1_12_min','P1_15_max','P2_11_min','P2_12_min','P2_15_max']]\n",
    "y = df['Yield']\n",
    "X_train, X_test, y_train, y_test = train_test_split(X,y, test_size = 0.2)\n",
    "y_test.head()"
   ]
  },
  {
   "cell_type": "code",
   "execution_count": 6,
   "metadata": {},
   "outputs": [
    {
     "data": {
      "text/plain": [
       "P1_11_min    229\n",
       "P1_12_min    229\n",
       "P1_15_max    229\n",
       "P2_11_min    229\n",
       "P2_12_min    229\n",
       "P2_15_max    229\n",
       "dtype: int64"
      ]
     },
     "execution_count": 6,
     "metadata": {},
     "output_type": "execute_result"
    }
   ],
   "source": [
    "X2 = df2[['P1_11_min','P1_12_min','P1_15_max','P2_11_min','P2_12_min','P2_15_max']]\n",
    "y2 = df2['Yield']\n",
    "X2_train, X2_test, y2_train, y2_test = train_test_split(X2,y2, test_size = 0.2)\n",
    "X2_test.count()"
   ]
  },
  {
   "cell_type": "code",
   "execution_count": 7,
   "metadata": {},
   "outputs": [
    {
     "data": {
      "text/html": [
       "<div>\n",
       "<style>\n",
       "    .dataframe thead tr:only-child th {\n",
       "        text-align: right;\n",
       "    }\n",
       "\n",
       "    .dataframe thead th {\n",
       "        text-align: left;\n",
       "    }\n",
       "\n",
       "    .dataframe tbody tr th {\n",
       "        vertical-align: top;\n",
       "    }\n",
       "</style>\n",
       "<table border=\"1\" class=\"dataframe\">\n",
       "  <thead>\n",
       "    <tr style=\"text-align: right;\">\n",
       "      <th></th>\n",
       "      <th>P1_11_min</th>\n",
       "      <th>P1_12_min</th>\n",
       "      <th>P1_15_max</th>\n",
       "      <th>P2_11_min</th>\n",
       "      <th>P2_12_min</th>\n",
       "      <th>P2_15_max</th>\n",
       "    </tr>\n",
       "  </thead>\n",
       "  <tbody>\n",
       "    <tr>\n",
       "      <th>63</th>\n",
       "      <td>2047</td>\n",
       "      <td>435</td>\n",
       "      <td>-18</td>\n",
       "      <td>1104</td>\n",
       "      <td>861</td>\n",
       "      <td>-88</td>\n",
       "    </tr>\n",
       "    <tr>\n",
       "      <th>15</th>\n",
       "      <td>2047</td>\n",
       "      <td>421</td>\n",
       "      <td>-27</td>\n",
       "      <td>1098</td>\n",
       "      <td>842</td>\n",
       "      <td>-96</td>\n",
       "    </tr>\n",
       "    <tr>\n",
       "      <th>67</th>\n",
       "      <td>2017</td>\n",
       "      <td>408</td>\n",
       "      <td>-17</td>\n",
       "      <td>1145</td>\n",
       "      <td>888</td>\n",
       "      <td>-102</td>\n",
       "    </tr>\n",
       "    <tr>\n",
       "      <th>79</th>\n",
       "      <td>2047</td>\n",
       "      <td>886</td>\n",
       "      <td>-20</td>\n",
       "      <td>936</td>\n",
       "      <td>730</td>\n",
       "      <td>-55</td>\n",
       "    </tr>\n",
       "    <tr>\n",
       "      <th>14</th>\n",
       "      <td>2047</td>\n",
       "      <td>774</td>\n",
       "      <td>-30</td>\n",
       "      <td>1068</td>\n",
       "      <td>873</td>\n",
       "      <td>-98</td>\n",
       "    </tr>\n",
       "  </tbody>\n",
       "</table>\n",
       "</div>"
      ],
      "text/plain": [
       "    P1_11_min  P1_12_min  P1_15_max  P2_11_min  P2_12_min  P2_15_max\n",
       "63       2047        435        -18       1104        861        -88\n",
       "15       2047        421        -27       1098        842        -96\n",
       "67       2017        408        -17       1145        888       -102\n",
       "79       2047        886        -20        936        730        -55\n",
       "14       2047        774        -30       1068        873        -98"
      ]
     },
     "execution_count": 7,
     "metadata": {},
     "output_type": "execute_result"
    }
   ],
   "source": [
    "X_abnormal = df_abnormal[['P1_11_min','P1_12_min','P1_15_max','P2_11_min','P2_12_min','P2_15_max']]\n",
    "y_abnormal = df_abnormal['Yield']\n",
    "X_abnormal_train, X_abnormal_test, y_abnormal_train, y_abnormal_test = train_test_split(X_abnormal,y_abnormal, test_size = 0.2)\n",
    "X_abnormal_train.head()"
   ]
  },
  {
   "cell_type": "code",
   "execution_count": 8,
   "metadata": {
    "collapsed": true
   },
   "outputs": [],
   "source": [
    "X3_train = pd.concat([X_train, X2_train])\n",
    "X3_test = pd.concat([X_test, X_abnormal_test])\n",
    "y3_train = pd.concat([y_train, y2_train])\n",
    "y3_test = pd.concat([y_test, y_abnormal_test])"
   ]
  },
  {
   "cell_type": "markdown",
   "metadata": {},
   "source": [
    "### 標準化（Normalize）參數值"
   ]
  },
  {
   "cell_type": "code",
   "execution_count": 9,
   "metadata": {},
   "outputs": [
    {
     "data": {
      "text/plain": [
       "array([[ 3.31236132e-01, -6.70650296e-01,  4.73827892e-01,\n",
       "         2.05041754e-04,  5.53440048e-02, -4.39147577e-01],\n",
       "       [-8.38269200e-02, -6.28204937e-01,  6.76700168e-01,\n",
       "         6.13342976e-01,  7.26970283e-01, -9.41656169e-01],\n",
       "       [-4.94006462e+00, -1.19414307e+00,  8.79572444e-01,\n",
       "        -1.74166409e+00, -1.67460247e+00,  6.66371326e-01],\n",
       "       [ 3.31236132e-01, -5.78685350e-01,  7.78136306e-01,\n",
       "         6.41212883e-01,  8.69436463e-01, -6.40151014e-01],\n",
       "       [ 1.30211254e-02, -6.49427617e-01,  7.78136306e-01,\n",
       "         6.41212883e-01,  1.00172649e+00, -5.89900155e-01],\n",
       "       [-4.29712796e-01, -6.91872976e-01,  6.76700168e-01,\n",
       "        -1.49083494e+00, -2.28517181e+00,  1.92264281e+00],\n",
       "       [ 3.31236132e-01, -4.79646177e-01, -3.37661214e-01,\n",
       "         3.62513821e-01,  5.23447168e-01,  3.14615312e-01],\n",
       "       [ 2.68565604e-02, -6.35279163e-01,  8.79572444e-01,\n",
       "         1.81359432e-01, -1.17597084e+00,  3.64866171e-01],\n",
       "       [-4.43548231e-01, -6.56501843e-01,  7.78136306e-01,\n",
       "         4.46123540e-01,  7.06617971e-01, -6.40151014e-01],\n",
       "       [-9.00117588e-01, -8.61654415e-01,  7.78136306e-01,\n",
       "         5.43668211e-01, -2.60652410e-02, -9.41656169e-01]])"
      ]
     },
     "execution_count": 9,
     "metadata": {},
     "output_type": "execute_result"
    }
   ],
   "source": [
    "from sklearn.preprocessing import StandardScaler\n",
    "sc = StandardScaler()\n",
    "sc.fit(X3_train)\n",
    "X3_train_nor = sc.transform(X3_train)\n",
    "X3_test_nor = sc.transform(X3_test)\n",
    "X3_train_nor[:10]"
   ]
  },
  {
   "cell_type": "markdown",
   "metadata": {},
   "source": [
    "### 訓練資料分類效果（使用兩個參數）"
   ]
  },
  {
   "cell_type": "code",
   "execution_count": 10,
   "metadata": {},
   "outputs": [
    {
     "data": {
      "image/png": "[encoded data removed]",
      "text/plain": [
       "<matplotlib.figure.Figure at 0x1fc7c5c3d68>"
      ]
     },
     "metadata": {},
     "output_type": "display_data"
    }
   ],
   "source": [
    "from sklearn.ensemble import RandomForestClassifier\n",
    "import matplotlib.patches as mpatches\n",
    "\n",
    "classifier = RandomForestClassifier(n_estimators = 10, criterion = 'entropy', random_state = 0)\n",
    "classifier.fit(X3_train_nor, y3_train)\n",
    "pred_y = classifier.predict(X3_train_nor)\n",
    "#print(pred_y)\n",
    "#print(pred_y.shape)\n",
    "for i in range(len(X3_train_nor)):\n",
    "    if(classifier.predict(X3_train_nor[i].reshape(1,-1))==1):\n",
    "        plt.plot(X3_train['P1_11_min'].reset_index(drop=True)[i],X3_train['P1_12_min'].reset_index(drop=True)[i],X3_train['P1_15_max'].reset_index(drop=True)[i],X3_train['P2_11_min'].reset_index(drop=True)[i],X3_train['P2_12_min'].reset_index(drop=True)[i],X3_train['P2_15_max'].reset_index(drop=True)[i],'b.')\n",
    "    else:\n",
    "        plt.plot(X3_train['P1_11_min'].reset_index(drop=True)[i],X3_train['P1_12_min'].reset_index(drop=True)[i],X3_train['P1_15_max'].reset_index(drop=True)[i],X3_train['P2_11_min'].reset_index(drop=True)[i],X3_train['P2_12_min'].reset_index(drop=True)[i],X3_train['P2_15_max'].reset_index(drop=True)[i],'g+')\n",
    "        \n",
    "# 標註（補丁patch）\n",
    "blue_patch = mpatches.Patch(color='blue', label='1')\n",
    "green_patch = mpatches.Patch(color='green', label='0')\n",
    "plt.legend(handles=[blue_patch,green_patch], loc = 'upper right')  \n",
    "plt.show()"
   ]
  },
  {
   "cell_type": "markdown",
   "metadata": {},
   "source": [
    "### 分類效果測試（使用訓練好的model）"
   ]
  },
  {
   "cell_type": "code",
   "execution_count": 11,
   "metadata": {},
   "outputs": [
    {
     "data": {
      "image/png": "[encoded data removed]",
      "text/plain": [
       "<matplotlib.figure.Figure at 0x1fc02cc8d68>"
      ]
     },
     "metadata": {},
     "output_type": "display_data"
    }
   ],
   "source": [
    "for i in range(len(X3_test_nor)):\n",
    "    if(classifier.predict(X3_test_nor[i].reshape(1,-1))==1):\n",
    "        plt.plot(X3_test['P1_11_min'].reset_index(drop=True)[i],X3_test['P1_12_min'].reset_index(drop=True)[i],X3_test['P1_15_max'].reset_index(drop=True)[i],X3_test['P2_11_min'].reset_index(drop=True)[i],X3_test['P2_12_min'].reset_index(drop=True)[i],X3_test['P2_15_max'].reset_index(drop=True)[i],'b.')\n",
    "    else:\n",
    "        plt.plot(X3_test['P1_11_min'].reset_index(drop=True)[i],X3_test['P1_12_min'].reset_index(drop=True)[i],X3_test['P1_15_max'].reset_index(drop=True)[i],X3_test['P2_11_min'].reset_index(drop=True)[i],X3_test['P2_12_min'].reset_index(drop=True)[i],X3_test['P2_15_max'].reset_index(drop=True)[i],'g+')\n",
    "        \n",
    "# 標註（補丁patch）\n",
    "blue_patch = mpatches.Patch(color='blue', label='1')\n",
    "green_patch = mpatches.Patch(color='green', label='0')\n",
    "plt.legend(handles=[blue_patch,green_patch],loc='upper right')        \n",
    "plt.show()"
   ]
  },
  {
   "cell_type": "markdown",
   "metadata": {},
   "source": [
    "### 視覺化混淆矩陣函式（from sklearn官網）"
   ]
  },
  {
   "cell_type": "code",
   "execution_count": 12,
   "metadata": {
    "collapsed": true
   },
   "outputs": [],
   "source": [
    "def plot_confusion_matrix(cm, classes,\n",
    "                          normalize=False,\n",
    "                          title='Confusion matrix',\n",
    "                          cmap=plt.cm.Blues):\n",
    "    \"\"\"\n",
    "    This function prints and plots the confusion matrix.\n",
    "    Normalization can be applied by setting `normalize=True`.\n",
    "    \"\"\"\n",
    "    plt.imshow(cm, interpolation='nearest', cmap=cmap)\n",
    "    plt.title(title)\n",
    "    plt.colorbar()\n",
    "    tick_marks = np.arange(len(classes))\n",
    "    plt.xticks(tick_marks, classes, rotation=45)\n",
    "    plt.yticks(tick_marks, classes)\n",
    "\n",
    "    if normalize:\n",
    "        cm = cm.astype('float') / cm.sum(axis=1)[:, np.newaxis]\n",
    "        print(\"Normalized confusion matrix\")\n",
    "    else:\n",
    "        print('Confusion matrix, without normalization')\n",
    "\n",
    "    print(cm)\n",
    "\n",
    "    thresh = cm.max() / 2.\n",
    "    for i, j in itertools.product(range(cm.shape[0]), range(cm.shape[1])):\n",
    "        plt.text(j, i, cm[i, j],\n",
    "                 horizontalalignment=\"center\",\n",
    "                 color=\"white\" if cm[i, j] > thresh else \"black\")\n",
    "\n",
    "    plt.tight_layout()\n",
    "    plt.ylabel('True label')\n",
    "    plt.xlabel('Predicted label')\n",
    "    \n",
    "#Source code from: http://scikit-learn.org/stable/auto_examples/model_selection/plot_confusion_matrix.html#sphx-glr-auto-examples-model-selection-plot-confusion-matrix-py"
   ]
  },
  {
   "cell_type": "markdown",
   "metadata": {},
   "source": [
    "### 機率分類判斷"
   ]
  },
  {
   "cell_type": "markdown",
   "metadata": {},
   "source": [
    "### Evaluation：Confusion Metrics（混淆矩陣）"
   ]
  },
  {
   "cell_type": "code",
   "execution_count": 13,
   "metadata": {},
   "outputs": [
    {
     "name": "stdout",
     "output_type": "stream",
     "text": [
      "[[ 26   0]\n",
      " [  2 212]]\n"
     ]
    }
   ],
   "source": [
    "from sklearn.metrics import confusion_matrix\n",
    "cnf_matrix = confusion_matrix(y3_test, classifier.predict(X3_test_nor))\n",
    "print (cnf_matrix)"
   ]
  },
  {
   "cell_type": "code",
   "execution_count": 14,
   "metadata": {},
   "outputs": [
    {
     "name": "stdout",
     "output_type": "stream",
     "text": [
      "Confusion matrix, without normalization\n",
      "[[ 26   0]\n",
      " [  2 212]]\n"
     ]
    },
    {
     "data": {
      "image/png": "[encoded data removed]",
      "text/plain": [
       "<matplotlib.figure.Figure at 0x1fc034ccb00>"
      ]
     },
     "metadata": {},
     "output_type": "display_data"
    }
   ],
   "source": [
    "import itertools\n",
    "target_names = ['0', '1']\n",
    "plot_confusion_matrix(cnf_matrix, classes=target_names, title='Confusion matrix, without normalization')\n",
    "\n",
    "plt.show()"
   ]
  },
  {
   "cell_type": "code",
   "execution_count": 15,
   "metadata": {},
   "outputs": [
    {
     "name": "stdout",
     "output_type": "stream",
     "text": [
      "             precision    recall  f1-score   support\n",
      "\n",
      "          0       0.93      1.00      0.96        26\n",
      "          1       1.00      0.99      1.00       214\n",
      "\n",
      "avg / total       0.99      0.99      0.99       240\n",
      "\n"
     ]
    }
   ],
   "source": [
    "from sklearn.metrics import classification_report\n",
    "\n",
    "print(classification_report(y3_test, classifier.predict(X3_test_nor), target_names=target_names))"
   ]
  },
  {
   "cell_type": "code",
   "execution_count": 16,
   "metadata": {},
   "outputs": [
    {
     "name": "stdout",
     "output_type": "stream",
     "text": [
      "             precision    recall  f1-score   support\n",
      "\n",
      "          0       1.00      1.00      1.00       914\n",
      "          1       1.00      1.00      1.00       853\n",
      "\n",
      "avg / total       1.00      1.00      1.00      1767\n",
      "\n"
     ]
    }
   ],
   "source": [
    "print(classification_report(y3_train, classifier.predict(X3_train_nor), target_names=target_names))"
   ]
  },
  {
   "cell_type": "code",
   "execution_count": null,
   "metadata": {
    "collapsed": true
   },
   "outputs": [],
   "source": []
  }
 ],
 "metadata": {
  "kernelspec": {
   "display_name": "Python 3",
   "language": "python",
   "name": "python3"
  },
  "language_info": {
   "codemirror_mode": {
    "name": "ipython",
    "version": 3
   },
   "file_extension": ".py",
   "mimetype": "text/x-python",
   "name": "python",
   "nbconvert_exporter": "python",
   "pygments_lexer": "ipython3",
   "version": "3.6.7"
  }
 },
 "nbformat": 4,
 "nbformat_minor": 1
}
